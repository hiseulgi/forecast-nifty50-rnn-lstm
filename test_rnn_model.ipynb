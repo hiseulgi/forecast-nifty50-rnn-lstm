{
 "cells": [
  {
   "cell_type": "markdown",
   "metadata": {},
   "source": [
    "# Import Library"
   ]
  },
  {
   "cell_type": "code",
   "execution_count": 124,
   "metadata": {},
   "outputs": [],
   "source": [
    "import numpy as np\n",
    "import matplotlib.pyplot as plt\n",
    "plt.style.use('fivethirtyeight')\n",
    "import pandas as pd\n",
    "from sklearn.preprocessing import MinMaxScaler\n",
    "from keras.models import Sequential\n",
    "from keras.layers import Dense, LSTM, Dropout, GRU, Bidirectional, SimpleRNN\n",
    "from tensorflow.keras.optimizers import SGD\n",
    "import tensorflow as tf\n",
    "import math\n",
    "import matplotlib as mpl\n",
    "from sklearn.metrics import mean_squared_error"
   ]
  },
  {
   "cell_type": "markdown",
   "metadata": {},
   "source": [
    "### Read Dataset"
   ]
  },
  {
   "cell_type": "code",
   "execution_count": 125,
   "metadata": {},
   "outputs": [
    {
     "data": {
      "text/html": [
       "<div>\n",
       "<style scoped>\n",
       "    .dataframe tbody tr th:only-of-type {\n",
       "        vertical-align: middle;\n",
       "    }\n",
       "\n",
       "    .dataframe tbody tr th {\n",
       "        vertical-align: top;\n",
       "    }\n",
       "\n",
       "    .dataframe thead th {\n",
       "        text-align: right;\n",
       "    }\n",
       "</style>\n",
       "<table border=\"1\" class=\"dataframe\">\n",
       "  <thead>\n",
       "    <tr style=\"text-align: right;\">\n",
       "      <th></th>\n",
       "      <th>Symbol</th>\n",
       "      <th>Series</th>\n",
       "      <th>Prev Close</th>\n",
       "      <th>Open</th>\n",
       "      <th>High</th>\n",
       "      <th>Low</th>\n",
       "      <th>Last</th>\n",
       "      <th>Close</th>\n",
       "      <th>VWAP</th>\n",
       "      <th>Volume</th>\n",
       "      <th>Turnover</th>\n",
       "      <th>Trades</th>\n",
       "      <th>Deliverable Volume</th>\n",
       "      <th>%Deliverble</th>\n",
       "    </tr>\n",
       "    <tr>\n",
       "      <th>Date</th>\n",
       "      <th></th>\n",
       "      <th></th>\n",
       "      <th></th>\n",
       "      <th></th>\n",
       "      <th></th>\n",
       "      <th></th>\n",
       "      <th></th>\n",
       "      <th></th>\n",
       "      <th></th>\n",
       "      <th></th>\n",
       "      <th></th>\n",
       "      <th></th>\n",
       "      <th></th>\n",
       "      <th></th>\n",
       "    </tr>\n",
       "  </thead>\n",
       "  <tbody>\n",
       "    <tr>\n",
       "      <th>2000-01-03</th>\n",
       "      <td>ICICIBANK</td>\n",
       "      <td>EQ</td>\n",
       "      <td>69.20</td>\n",
       "      <td>74.35</td>\n",
       "      <td>74.75</td>\n",
       "      <td>71.40</td>\n",
       "      <td>74.75</td>\n",
       "      <td>74.75</td>\n",
       "      <td>73.20</td>\n",
       "      <td>286260</td>\n",
       "      <td>2.095439e+12</td>\n",
       "      <td>NaN</td>\n",
       "      <td>NaN</td>\n",
       "      <td>NaN</td>\n",
       "    </tr>\n",
       "    <tr>\n",
       "      <th>2000-01-04</th>\n",
       "      <td>ICICIBANK</td>\n",
       "      <td>EQ</td>\n",
       "      <td>74.75</td>\n",
       "      <td>73.05</td>\n",
       "      <td>78.50</td>\n",
       "      <td>71.00</td>\n",
       "      <td>73.25</td>\n",
       "      <td>73.05</td>\n",
       "      <td>73.38</td>\n",
       "      <td>296264</td>\n",
       "      <td>2.173893e+12</td>\n",
       "      <td>NaN</td>\n",
       "      <td>NaN</td>\n",
       "      <td>NaN</td>\n",
       "    </tr>\n",
       "    <tr>\n",
       "      <th>2000-01-05</th>\n",
       "      <td>ICICIBANK</td>\n",
       "      <td>EQ</td>\n",
       "      <td>73.05</td>\n",
       "      <td>70.00</td>\n",
       "      <td>73.50</td>\n",
       "      <td>67.50</td>\n",
       "      <td>70.00</td>\n",
       "      <td>69.50</td>\n",
       "      <td>70.85</td>\n",
       "      <td>227624</td>\n",
       "      <td>1.612794e+12</td>\n",
       "      <td>NaN</td>\n",
       "      <td>NaN</td>\n",
       "      <td>NaN</td>\n",
       "    </tr>\n",
       "    <tr>\n",
       "      <th>2000-01-06</th>\n",
       "      <td>ICICIBANK</td>\n",
       "      <td>EQ</td>\n",
       "      <td>69.50</td>\n",
       "      <td>71.00</td>\n",
       "      <td>74.00</td>\n",
       "      <td>69.55</td>\n",
       "      <td>69.75</td>\n",
       "      <td>70.05</td>\n",
       "      <td>72.04</td>\n",
       "      <td>275149</td>\n",
       "      <td>1.982121e+12</td>\n",
       "      <td>NaN</td>\n",
       "      <td>NaN</td>\n",
       "      <td>NaN</td>\n",
       "    </tr>\n",
       "    <tr>\n",
       "      <th>2000-01-07</th>\n",
       "      <td>ICICIBANK</td>\n",
       "      <td>EQ</td>\n",
       "      <td>70.05</td>\n",
       "      <td>69.00</td>\n",
       "      <td>72.50</td>\n",
       "      <td>66.00</td>\n",
       "      <td>67.00</td>\n",
       "      <td>67.40</td>\n",
       "      <td>68.72</td>\n",
       "      <td>138809</td>\n",
       "      <td>9.538882e+11</td>\n",
       "      <td>NaN</td>\n",
       "      <td>NaN</td>\n",
       "      <td>NaN</td>\n",
       "    </tr>\n",
       "  </tbody>\n",
       "</table>\n",
       "</div>"
      ],
      "text/plain": [
       "               Symbol Series  Prev Close   Open   High    Low   Last  Close  \\\n",
       "Date                                                                          \n",
       "2000-01-03  ICICIBANK     EQ       69.20  74.35  74.75  71.40  74.75  74.75   \n",
       "2000-01-04  ICICIBANK     EQ       74.75  73.05  78.50  71.00  73.25  73.05   \n",
       "2000-01-05  ICICIBANK     EQ       73.05  70.00  73.50  67.50  70.00  69.50   \n",
       "2000-01-06  ICICIBANK     EQ       69.50  71.00  74.00  69.55  69.75  70.05   \n",
       "2000-01-07  ICICIBANK     EQ       70.05  69.00  72.50  66.00  67.00  67.40   \n",
       "\n",
       "             VWAP  Volume      Turnover  Trades  Deliverable Volume  \\\n",
       "Date                                                                  \n",
       "2000-01-03  73.20  286260  2.095439e+12     NaN                 NaN   \n",
       "2000-01-04  73.38  296264  2.173893e+12     NaN                 NaN   \n",
       "2000-01-05  70.85  227624  1.612794e+12     NaN                 NaN   \n",
       "2000-01-06  72.04  275149  1.982121e+12     NaN                 NaN   \n",
       "2000-01-07  68.72  138809  9.538882e+11     NaN                 NaN   \n",
       "\n",
       "            %Deliverble  \n",
       "Date                     \n",
       "2000-01-03          NaN  \n",
       "2000-01-04          NaN  \n",
       "2000-01-05          NaN  \n",
       "2000-01-06          NaN  \n",
       "2000-01-07          NaN  "
      ]
     },
     "execution_count": 125,
     "metadata": {},
     "output_type": "execute_result"
    }
   ],
   "source": [
    "dataset = pd.read_csv('data/ICICIBANK.csv', index_col='Date', parse_dates=['Date'])\n",
    "dataset.head()"
   ]
  },
  {
   "cell_type": "code",
   "execution_count": 126,
   "metadata": {},
   "outputs": [
    {
     "data": {
      "text/html": [
       "<div>\n",
       "<style scoped>\n",
       "    .dataframe tbody tr th:only-of-type {\n",
       "        vertical-align: middle;\n",
       "    }\n",
       "\n",
       "    .dataframe tbody tr th {\n",
       "        vertical-align: top;\n",
       "    }\n",
       "\n",
       "    .dataframe thead th {\n",
       "        text-align: right;\n",
       "    }\n",
       "</style>\n",
       "<table border=\"1\" class=\"dataframe\">\n",
       "  <thead>\n",
       "    <tr style=\"text-align: right;\">\n",
       "      <th></th>\n",
       "      <th>Prev Close</th>\n",
       "      <th>Open</th>\n",
       "      <th>High</th>\n",
       "      <th>Low</th>\n",
       "      <th>Last</th>\n",
       "      <th>Close</th>\n",
       "      <th>VWAP</th>\n",
       "      <th>Volume</th>\n",
       "      <th>Turnover</th>\n",
       "      <th>Trades</th>\n",
       "      <th>Deliverable Volume</th>\n",
       "      <th>%Deliverble</th>\n",
       "    </tr>\n",
       "  </thead>\n",
       "  <tbody>\n",
       "    <tr>\n",
       "      <th>count</th>\n",
       "      <td>5306.000000</td>\n",
       "      <td>5306.000000</td>\n",
       "      <td>5306.000000</td>\n",
       "      <td>5306.000000</td>\n",
       "      <td>5306.000000</td>\n",
       "      <td>5306.000000</td>\n",
       "      <td>5306.000000</td>\n",
       "      <td>5.306000e+03</td>\n",
       "      <td>5.306000e+03</td>\n",
       "      <td>2456.000000</td>\n",
       "      <td>4.789000e+03</td>\n",
       "      <td>4789.000000</td>\n",
       "    </tr>\n",
       "    <tr>\n",
       "      <th>mean</th>\n",
       "      <td>550.895392</td>\n",
       "      <td>551.558538</td>\n",
       "      <td>560.558556</td>\n",
       "      <td>541.534197</td>\n",
       "      <td>551.050980</td>\n",
       "      <td>550.995524</td>\n",
       "      <td>551.129031</td>\n",
       "      <td>8.224631e+06</td>\n",
       "      <td>3.759336e+14</td>\n",
       "      <td>138367.627443</td>\n",
       "      <td>4.183406e+06</td>\n",
       "      <td>0.473463</td>\n",
       "    </tr>\n",
       "    <tr>\n",
       "      <th>std</th>\n",
       "      <td>368.784064</td>\n",
       "      <td>368.890953</td>\n",
       "      <td>374.079697</td>\n",
       "      <td>363.389664</td>\n",
       "      <td>368.705647</td>\n",
       "      <td>368.725374</td>\n",
       "      <td>368.746905</td>\n",
       "      <td>1.218535e+07</td>\n",
       "      <td>4.759238e+14</td>\n",
       "      <td>99008.729009</td>\n",
       "      <td>6.365382e+06</td>\n",
       "      <td>0.131495</td>\n",
       "    </tr>\n",
       "    <tr>\n",
       "      <th>min</th>\n",
       "      <td>67.400000</td>\n",
       "      <td>67.000000</td>\n",
       "      <td>70.450000</td>\n",
       "      <td>66.000000</td>\n",
       "      <td>67.000000</td>\n",
       "      <td>67.400000</td>\n",
       "      <td>68.520000</td>\n",
       "      <td>7.409000e+03</td>\n",
       "      <td>9.617283e+10</td>\n",
       "      <td>2595.000000</td>\n",
       "      <td>1.501500e+04</td>\n",
       "      <td>0.099000</td>\n",
       "    </tr>\n",
       "    <tr>\n",
       "      <th>25%</th>\n",
       "      <td>267.562500</td>\n",
       "      <td>267.400000</td>\n",
       "      <td>271.912500</td>\n",
       "      <td>263.625000</td>\n",
       "      <td>267.400000</td>\n",
       "      <td>267.612500</td>\n",
       "      <td>267.577500</td>\n",
       "      <td>9.612055e+05</td>\n",
       "      <td>3.459444e+13</td>\n",
       "      <td>79312.250000</td>\n",
       "      <td>6.995020e+05</td>\n",
       "      <td>0.384300</td>\n",
       "    </tr>\n",
       "    <tr>\n",
       "      <th>50%</th>\n",
       "      <td>398.075000</td>\n",
       "      <td>399.000000</td>\n",
       "      <td>406.525000</td>\n",
       "      <td>392.450000</td>\n",
       "      <td>398.700000</td>\n",
       "      <td>398.175000</td>\n",
       "      <td>398.235000</td>\n",
       "      <td>3.486648e+06</td>\n",
       "      <td>2.923010e+14</td>\n",
       "      <td>110101.000000</td>\n",
       "      <td>1.963117e+06</td>\n",
       "      <td>0.476400</td>\n",
       "    </tr>\n",
       "    <tr>\n",
       "      <th>75%</th>\n",
       "      <td>873.562500</td>\n",
       "      <td>877.000000</td>\n",
       "      <td>888.775000</td>\n",
       "      <td>859.800000</td>\n",
       "      <td>874.600000</td>\n",
       "      <td>873.562500</td>\n",
       "      <td>873.510000</td>\n",
       "      <td>1.157202e+07</td>\n",
       "      <td>4.993528e+14</td>\n",
       "      <td>162953.500000</td>\n",
       "      <td>5.948817e+06</td>\n",
       "      <td>0.564100</td>\n",
       "    </tr>\n",
       "    <tr>\n",
       "      <th>max</th>\n",
       "      <td>1794.100000</td>\n",
       "      <td>1767.050000</td>\n",
       "      <td>1798.150000</td>\n",
       "      <td>1760.150000</td>\n",
       "      <td>1793.000000</td>\n",
       "      <td>1794.100000</td>\n",
       "      <td>1783.460000</td>\n",
       "      <td>2.868577e+08</td>\n",
       "      <td>1.461959e+16</td>\n",
       "      <td>949891.000000</td>\n",
       "      <td>2.325307e+08</td>\n",
       "      <td>0.983000</td>\n",
       "    </tr>\n",
       "  </tbody>\n",
       "</table>\n",
       "</div>"
      ],
      "text/plain": [
       "        Prev Close         Open         High          Low         Last  \\\n",
       "count  5306.000000  5306.000000  5306.000000  5306.000000  5306.000000   \n",
       "mean    550.895392   551.558538   560.558556   541.534197   551.050980   \n",
       "std     368.784064   368.890953   374.079697   363.389664   368.705647   \n",
       "min      67.400000    67.000000    70.450000    66.000000    67.000000   \n",
       "25%     267.562500   267.400000   271.912500   263.625000   267.400000   \n",
       "50%     398.075000   399.000000   406.525000   392.450000   398.700000   \n",
       "75%     873.562500   877.000000   888.775000   859.800000   874.600000   \n",
       "max    1794.100000  1767.050000  1798.150000  1760.150000  1793.000000   \n",
       "\n",
       "             Close         VWAP        Volume      Turnover         Trades  \\\n",
       "count  5306.000000  5306.000000  5.306000e+03  5.306000e+03    2456.000000   \n",
       "mean    550.995524   551.129031  8.224631e+06  3.759336e+14  138367.627443   \n",
       "std     368.725374   368.746905  1.218535e+07  4.759238e+14   99008.729009   \n",
       "min      67.400000    68.520000  7.409000e+03  9.617283e+10    2595.000000   \n",
       "25%     267.612500   267.577500  9.612055e+05  3.459444e+13   79312.250000   \n",
       "50%     398.175000   398.235000  3.486648e+06  2.923010e+14  110101.000000   \n",
       "75%     873.562500   873.510000  1.157202e+07  4.993528e+14  162953.500000   \n",
       "max    1794.100000  1783.460000  2.868577e+08  1.461959e+16  949891.000000   \n",
       "\n",
       "       Deliverable Volume  %Deliverble  \n",
       "count        4.789000e+03  4789.000000  \n",
       "mean         4.183406e+06     0.473463  \n",
       "std          6.365382e+06     0.131495  \n",
       "min          1.501500e+04     0.099000  \n",
       "25%          6.995020e+05     0.384300  \n",
       "50%          1.963117e+06     0.476400  \n",
       "75%          5.948817e+06     0.564100  \n",
       "max          2.325307e+08     0.983000  "
      ]
     },
     "execution_count": 126,
     "metadata": {},
     "output_type": "execute_result"
    }
   ],
   "source": [
    "dataset.describe()"
   ]
  },
  {
   "cell_type": "code",
   "execution_count": 127,
   "metadata": {},
   "outputs": [
    {
     "data": {
      "text/plain": [
       "Symbol                   0\n",
       "Series                   0\n",
       "Prev Close               0\n",
       "Open                     0\n",
       "High                     0\n",
       "Low                      0\n",
       "Last                     0\n",
       "Close                    0\n",
       "VWAP                     0\n",
       "Volume                   0\n",
       "Turnover                 0\n",
       "Trades                2850\n",
       "Deliverable Volume     517\n",
       "%Deliverble            517\n",
       "dtype: int64"
      ]
     },
     "execution_count": 127,
     "metadata": {},
     "output_type": "execute_result"
    }
   ],
   "source": [
    "dataset.isnull().sum()"
   ]
  },
  {
   "cell_type": "markdown",
   "metadata": {},
   "source": [
    "### Mengambil kolom tertentu saja pada dataset"
   ]
  },
  {
   "cell_type": "code",
   "execution_count": 128,
   "metadata": {},
   "outputs": [],
   "source": [
    "df = dataset[[ 'Prev Close', 'High', 'Low', 'Last', 'Close', 'VWAP', 'Volume']].copy()"
   ]
  },
  {
   "cell_type": "code",
   "execution_count": 129,
   "metadata": {},
   "outputs": [
    {
     "data": {
      "text/html": [
       "<div>\n",
       "<style scoped>\n",
       "    .dataframe tbody tr th:only-of-type {\n",
       "        vertical-align: middle;\n",
       "    }\n",
       "\n",
       "    .dataframe tbody tr th {\n",
       "        vertical-align: top;\n",
       "    }\n",
       "\n",
       "    .dataframe thead th {\n",
       "        text-align: right;\n",
       "    }\n",
       "</style>\n",
       "<table border=\"1\" class=\"dataframe\">\n",
       "  <thead>\n",
       "    <tr style=\"text-align: right;\">\n",
       "      <th></th>\n",
       "      <th>Prev Close</th>\n",
       "      <th>High</th>\n",
       "      <th>Low</th>\n",
       "      <th>Last</th>\n",
       "      <th>Close</th>\n",
       "      <th>VWAP</th>\n",
       "      <th>Volume</th>\n",
       "    </tr>\n",
       "    <tr>\n",
       "      <th>Date</th>\n",
       "      <th></th>\n",
       "      <th></th>\n",
       "      <th></th>\n",
       "      <th></th>\n",
       "      <th></th>\n",
       "      <th></th>\n",
       "      <th></th>\n",
       "    </tr>\n",
       "  </thead>\n",
       "  <tbody>\n",
       "    <tr>\n",
       "      <th>2000-01-03</th>\n",
       "      <td>69.20</td>\n",
       "      <td>74.75</td>\n",
       "      <td>71.40</td>\n",
       "      <td>74.75</td>\n",
       "      <td>74.75</td>\n",
       "      <td>73.20</td>\n",
       "      <td>286260</td>\n",
       "    </tr>\n",
       "    <tr>\n",
       "      <th>2000-01-04</th>\n",
       "      <td>74.75</td>\n",
       "      <td>78.50</td>\n",
       "      <td>71.00</td>\n",
       "      <td>73.25</td>\n",
       "      <td>73.05</td>\n",
       "      <td>73.38</td>\n",
       "      <td>296264</td>\n",
       "    </tr>\n",
       "    <tr>\n",
       "      <th>2000-01-05</th>\n",
       "      <td>73.05</td>\n",
       "      <td>73.50</td>\n",
       "      <td>67.50</td>\n",
       "      <td>70.00</td>\n",
       "      <td>69.50</td>\n",
       "      <td>70.85</td>\n",
       "      <td>227624</td>\n",
       "    </tr>\n",
       "    <tr>\n",
       "      <th>2000-01-06</th>\n",
       "      <td>69.50</td>\n",
       "      <td>74.00</td>\n",
       "      <td>69.55</td>\n",
       "      <td>69.75</td>\n",
       "      <td>70.05</td>\n",
       "      <td>72.04</td>\n",
       "      <td>275149</td>\n",
       "    </tr>\n",
       "    <tr>\n",
       "      <th>2000-01-07</th>\n",
       "      <td>70.05</td>\n",
       "      <td>72.50</td>\n",
       "      <td>66.00</td>\n",
       "      <td>67.00</td>\n",
       "      <td>67.40</td>\n",
       "      <td>68.72</td>\n",
       "      <td>138809</td>\n",
       "    </tr>\n",
       "  </tbody>\n",
       "</table>\n",
       "</div>"
      ],
      "text/plain": [
       "            Prev Close   High    Low   Last  Close   VWAP  Volume\n",
       "Date                                                             \n",
       "2000-01-03       69.20  74.75  71.40  74.75  74.75  73.20  286260\n",
       "2000-01-04       74.75  78.50  71.00  73.25  73.05  73.38  296264\n",
       "2000-01-05       73.05  73.50  67.50  70.00  69.50  70.85  227624\n",
       "2000-01-06       69.50  74.00  69.55  69.75  70.05  72.04  275149\n",
       "2000-01-07       70.05  72.50  66.00  67.00  67.40  68.72  138809"
      ]
     },
     "execution_count": 129,
     "metadata": {},
     "output_type": "execute_result"
    }
   ],
   "source": [
    "df.head()"
   ]
  },
  {
   "cell_type": "markdown",
   "metadata": {},
   "source": [
    "# Data Preprocessing"
   ]
  },
  {
   "cell_type": "markdown",
   "metadata": {},
   "source": [
    "### Reshape Data menjadi Array 2D"
   ]
  },
  {
   "cell_type": "code",
   "execution_count": 130,
   "metadata": {},
   "outputs": [
    {
     "data": {
      "text/plain": [
       "(5306, 7)"
      ]
     },
     "execution_count": 130,
     "metadata": {},
     "output_type": "execute_result"
    }
   ],
   "source": [
    "df.shape"
   ]
  },
  {
   "cell_type": "code",
   "execution_count": 131,
   "metadata": {},
   "outputs": [
    {
     "name": "stdout",
     "output_type": "stream",
     "text": [
      "(5306, 1)\n",
      "[[ 73.2 ]\n",
      " [ 73.38]\n",
      " [ 70.85]\n",
      " ...\n",
      " [612.57]\n",
      " [619.55]\n",
      " [607.02]]\n"
     ]
    }
   ],
   "source": [
    "# Mengambil kolom VWAP dan mengubahnya menjadi array 2D\n",
    "df_2d = df['VWAP'].values.reshape(5306,1)\n",
    "print(df_2d.shape)\n",
    "print(df_2d)"
   ]
  },
  {
   "cell_type": "markdown",
   "metadata": {},
   "source": [
    "### Scaling Data"
   ]
  },
  {
   "cell_type": "code",
   "execution_count": 132,
   "metadata": {},
   "outputs": [],
   "source": [
    "scaler = MinMaxScaler(feature_range=(0, 1)) #Also try QuantileTransformer\n",
    "df_2d = scaler.fit_transform(df_2d)"
   ]
  },
  {
   "cell_type": "markdown",
   "metadata": {},
   "source": [
    "### Splitting Train dan Test Set"
   ]
  },
  {
   "cell_type": "code",
   "execution_count": 133,
   "metadata": {},
   "outputs": [
    {
     "name": "stdout",
     "output_type": "stream",
     "text": [
      "(3714, 1)\n",
      "(1592, 1)\n"
     ]
    }
   ],
   "source": [
    "train_size = int(len(df_2d) * 0.7)\n",
    "test_size = len(df_2d) - train_size\n",
    "train, test = df_2d[0:train_size,:], df_2d[train_size:len(df_2d),:]\n",
    "print(train.shape)\n",
    "print(test.shape)"
   ]
  },
  {
   "cell_type": "markdown",
   "metadata": {},
   "source": [
    "### Membuat Sequence"
   ]
  },
  {
   "cell_type": "code",
   "execution_count": 134,
   "metadata": {},
   "outputs": [],
   "source": [
    "def to_sequences(dataset, seq_size=1):\n",
    "    x = []\n",
    "    y = []\n",
    "\n",
    "    for i in range(len(dataset)-seq_size-1):\n",
    "        # print(i)\n",
    "        window = dataset[i:(i+seq_size), 0]\n",
    "        x.append(window)\n",
    "        y.append(dataset[i+seq_size, 0])\n",
    "        \n",
    "    return np.array(x),np.array(y)"
   ]
  },
  {
   "cell_type": "code",
   "execution_count": 135,
   "metadata": {},
   "outputs": [
    {
     "data": {
      "text/plain": [
       "(3714, 1)"
      ]
     },
     "execution_count": 135,
     "metadata": {},
     "output_type": "execute_result"
    }
   ],
   "source": [
    "train.shape"
   ]
  },
  {
   "cell_type": "code",
   "execution_count": 136,
   "metadata": {},
   "outputs": [
    {
     "data": {
      "text/plain": [
       "(1592, 1)"
      ]
     },
     "execution_count": 136,
     "metadata": {},
     "output_type": "execute_result"
    }
   ],
   "source": [
    "test.shape"
   ]
  },
  {
   "cell_type": "code",
   "execution_count": 137,
   "metadata": {},
   "outputs": [
    {
     "name": "stdout",
     "output_type": "stream",
     "text": [
      "Shape of training set: (3613, 100)\n",
      "Shape of test set: (1491, 100)\n"
     ]
    }
   ],
   "source": [
    "seq_size = 100\n",
    "\n",
    "X_train, y_train = to_sequences(train, seq_size)\n",
    "X_test, y_test = to_sequences(test, seq_size)\n",
    "\n",
    "print(\"Shape of training set: {}\".format(X_train.shape))\n",
    "print(\"Shape of test set: {}\".format(X_test.shape))"
   ]
  },
  {
   "cell_type": "markdown",
   "metadata": {},
   "source": [
    "### Mengubah Data Train dan Test menjadi 3D"
   ]
  },
  {
   "cell_type": "code",
   "execution_count": 138,
   "metadata": {},
   "outputs": [
    {
     "name": "stdout",
     "output_type": "stream",
     "text": [
      "[[[2.72895845e-03]\n",
      "  [2.83391839e-03]\n",
      "  [1.35864812e-03]\n",
      "  ...\n",
      "  [8.21486466e-02]\n",
      "  [8.04284698e-02]\n",
      "  [8.18162735e-02]]\n",
      "\n",
      " [[2.83391839e-03]\n",
      "  [1.35864812e-03]\n",
      "  [2.05254994e-03]\n",
      "  ...\n",
      "  [8.04284698e-02]\n",
      "  [8.18162735e-02]\n",
      "  [8.19853756e-02]]\n",
      "\n",
      " [[1.35864812e-03]\n",
      "  [2.05254994e-03]\n",
      "  [1.16622156e-04]\n",
      "  ...\n",
      "  [8.18162735e-02]\n",
      "  [8.19853756e-02]\n",
      "  [8.41487166e-02]]\n",
      "\n",
      " ...\n",
      "\n",
      " [[7.96511831e-01]\n",
      "  [7.85176158e-01]\n",
      "  [7.81881582e-01]\n",
      "  ...\n",
      "  [9.46388795e-01]\n",
      "  [9.34901513e-01]\n",
      "  [9.39741332e-01]]\n",
      "\n",
      " [[7.85176158e-01]\n",
      "  [7.81881582e-01]\n",
      "  [7.82301422e-01]\n",
      "  ...\n",
      "  [9.34901513e-01]\n",
      "  [9.39741332e-01]\n",
      "  [9.43274983e-01]]\n",
      "\n",
      " [[7.81881582e-01]\n",
      "  [7.82301422e-01]\n",
      "  [7.97159084e-01]\n",
      "  ...\n",
      "  [9.39741332e-01]\n",
      "  [9.43274983e-01]\n",
      "  [9.41181616e-01]]]\n",
      "(3613, 100, 1)\n"
     ]
    }
   ],
   "source": [
    "#Reshape input to be [samples, time steps, features]\n",
    "X_train = np.reshape(X_train, (X_train.shape[0], X_train.shape[1], 1))\n",
    "X_test = np.reshape(X_test, (X_test.shape[0], X_test.shape[1], 1))\n",
    "print(X_train)\n",
    "print(X_train.shape)"
   ]
  },
  {
   "cell_type": "markdown",
   "metadata": {},
   "source": [
    "# Import Model yang sudah ditraining"
   ]
  },
  {
   "cell_type": "code",
   "execution_count": 139,
   "metadata": {},
   "outputs": [],
   "source": [
    "from keras.models import load_model"
   ]
  },
  {
   "cell_type": "code",
   "execution_count": 143,
   "metadata": {},
   "outputs": [],
   "source": [
    "model = load_model('./rnn_model_100seq.h5')"
   ]
  },
  {
   "cell_type": "markdown",
   "metadata": {},
   "source": [
    "### Memprediksi Model Train dan Test"
   ]
  },
  {
   "cell_type": "code",
   "execution_count": 144,
   "metadata": {},
   "outputs": [],
   "source": [
    "def plot_predictions(title, test,predicted):\n",
    "    plt.figure(figsize = (20,10))\n",
    "    plt.plot(test, color='red',label='Actual')\n",
    "    plt.plot(predicted, color='blue',label='Predicted')\n",
    "    plt.title(title)\n",
    "    plt.xlabel('Time')\n",
    "    plt.ylabel('Stock Price')\n",
    "    plt.legend()\n",
    "    plt.show()\n",
    "\n",
    "def return_rmse(test,predicted):\n",
    "    rmse = math.sqrt(mean_squared_error(test, predicted))\n",
    "    print(\"The root mean squared error is {}.\".format(rmse))"
   ]
  },
  {
   "cell_type": "code",
   "execution_count": 145,
   "metadata": {},
   "outputs": [],
   "source": [
    "trainPredict = model.predict(X_train)\n",
    "testPredict = model.predict(X_test)"
   ]
  },
  {
   "cell_type": "code",
   "execution_count": 146,
   "metadata": {},
   "outputs": [],
   "source": [
    "trainPredict = scaler.inverse_transform(trainPredict)\n",
    "trainY = scaler.inverse_transform([y_train])\n",
    "testPredict = scaler.inverse_transform(testPredict)\n",
    "testY = scaler.inverse_transform([y_test])"
   ]
  },
  {
   "cell_type": "code",
   "execution_count": 147,
   "metadata": {},
   "outputs": [
    {
     "name": "stdout",
     "output_type": "stream",
     "text": [
      "Score: 10.01 RMSE\n"
     ]
    }
   ],
   "source": [
    "# calculate root mean squared error\n",
    "# trainScore = math.sqrt(mean_squared_error(trainY[0], trainPredict[:,0]))\n",
    "# print('Train Score: %.2f RMSE' % (trainScore))\n",
    "\n",
    "testScore = math.sqrt(mean_squared_error(testY[0], testPredict[:,0]))\n",
    "print('Score: %.2f RMSE' % (testScore))"
   ]
  },
  {
   "cell_type": "code",
   "execution_count": 148,
   "metadata": {},
   "outputs": [],
   "source": [
    "# plot_predictions('ICICIBANK Stock Price Prediction - Train Data', trainY[0], trainPredict[:,0])"
   ]
  },
  {
   "cell_type": "code",
   "execution_count": 149,
   "metadata": {},
   "outputs": [
    {
     "data": {
      "image/png": "[encoded data removed]",
      "text/plain": [
       "<Figure size 1440x720 with 1 Axes>"
      ]
     },
     "metadata": {},
     "output_type": "display_data"
    }
   ],
   "source": [
    "plot_predictions('ICICIBANK Stock Price Prediction', testY[0], testPredict[:,0])"
   ]
  },
  {
   "cell_type": "markdown",
   "metadata": {},
   "source": [
    "# Prediksi 13 dan 15 Tahun Kedepan"
   ]
  },
  {
   "cell_type": "code",
   "execution_count": 150,
   "metadata": {},
   "outputs": [
    {
     "data": {
      "text/plain": [
       "1592"
      ]
     },
     "execution_count": 150,
     "metadata": {},
     "output_type": "execute_result"
    }
   ],
   "source": [
    "len(test)"
   ]
  },
  {
   "cell_type": "code",
   "execution_count": 151,
   "metadata": {},
   "outputs": [
    {
     "data": {
      "text/plain": [
       "(1592, 1)"
      ]
     },
     "execution_count": 151,
     "metadata": {},
     "output_type": "execute_result"
    }
   ],
   "source": [
    "test.shape"
   ]
  },
  {
   "cell_type": "markdown",
   "metadata": {},
   "source": [
    "### Membuat Sequence 100 hari terakhir"
   ]
  },
  {
   "cell_type": "code",
   "execution_count": 152,
   "metadata": {},
   "outputs": [],
   "source": [
    "last_day = seq_size"
   ]
  },
  {
   "cell_type": "code",
   "execution_count": 153,
   "metadata": {},
   "outputs": [],
   "source": [
    "#Getting the last 100 days records\n",
    "fut_inp = test[len(test)-last_day:]\n",
    "fut_inp = fut_inp.reshape(1,-1)\n"
   ]
  },
  {
   "cell_type": "code",
   "execution_count": 154,
   "metadata": {},
   "outputs": [],
   "source": [
    "tmp_inp = list(fut_inp)"
   ]
  },
  {
   "cell_type": "code",
   "execution_count": 155,
   "metadata": {},
   "outputs": [
    {
     "data": {
      "text/plain": [
       "(1, 100)"
      ]
     },
     "execution_count": 155,
     "metadata": {},
     "output_type": "execute_result"
    }
   ],
   "source": [
    "fut_inp.shape"
   ]
  },
  {
   "cell_type": "code",
   "execution_count": 156,
   "metadata": {},
   "outputs": [],
   "source": [
    "# Creating list of the last 100 data\n",
    "tmp_inp = tmp_inp[0].tolist()"
   ]
  },
  {
   "cell_type": "code",
   "execution_count": 157,
   "metadata": {},
   "outputs": [
    {
     "name": "stdout",
     "output_type": "stream",
     "text": [
      "13 Tahun kedepan : 4680 hari\n",
      "15 Tahun kedepan : 5400 hari\n"
     ]
    }
   ],
   "source": [
    "# Hari berikutnya yang akan diprediksi\n",
    "# 15 tahun\n",
    "next_a = 13 * 360\n",
    "next_b = 15 * 360\n",
    "print(\"13 Tahun kedepan : {} hari\".format(next_a))\n",
    "print(\"15 Tahun kedepan : {} hari\".format(next_b))"
   ]
  },
  {
   "cell_type": "code",
   "execution_count": 158,
   "metadata": {},
   "outputs": [],
   "source": [
    "next_day = next_b"
   ]
  },
  {
   "cell_type": "code",
   "execution_count": 159,
   "metadata": {},
   "outputs": [],
   "source": [
    "#Predicting next 30 days price suing the current data\n",
    "#It will predict in sliding window manner (algorithm) with stride 1\n",
    "lst_output=[]\n",
    "n_steps= last_day\n",
    "i=0\n",
    "while(i<next_day):\n",
    "    \n",
    "    if(len(tmp_inp)>last_day):\n",
    "        fut_inp = np.array(tmp_inp[1:])\n",
    "        fut_inp=fut_inp.reshape(1,-1)\n",
    "        fut_inp = fut_inp.reshape((1, n_steps, 1))\n",
    "        yhat = model.predict(fut_inp, verbose=0)\n",
    "        tmp_inp.extend(yhat[0].tolist())\n",
    "        tmp_inp = tmp_inp[1:]\n",
    "        lst_output.extend(yhat.tolist())\n",
    "        i=i+1\n",
    "    else:\n",
    "        fut_inp = fut_inp.reshape((1, n_steps,1))\n",
    "        yhat = model.predict(fut_inp, verbose=0)\n",
    "        tmp_inp.extend(yhat[0].tolist())\n",
    "        lst_output.extend(yhat.tolist())\n",
    "        i=i+1\n",
    "    \n",
    "\n",
    "# print(lst_output)"
   ]
  },
  {
   "cell_type": "code",
   "execution_count": 160,
   "metadata": {},
   "outputs": [
    {
     "data": {
      "text/plain": [
       "5306"
      ]
     },
     "execution_count": 160,
     "metadata": {},
     "output_type": "execute_result"
    }
   ],
   "source": [
    "len(df_2d)"
   ]
  },
  {
   "cell_type": "code",
   "execution_count": 161,
   "metadata": {},
   "outputs": [
    {
     "data": {
      "text/plain": [
       "array([[0.00272896],\n",
       "       [0.00283392],\n",
       "       [0.00135865],\n",
       "       ...,\n",
       "       [0.31724142],\n",
       "       [0.32131153],\n",
       "       [0.31400515]])"
      ]
     },
     "execution_count": 161,
     "metadata": {},
     "output_type": "execute_result"
    }
   ],
   "source": [
    "df_2d"
   ]
  },
  {
   "cell_type": "code",
   "execution_count": 162,
   "metadata": {},
   "outputs": [],
   "source": [
    "#Creating a dummy plane to plot graph one after another\n",
    "plot_new=np.arange(1,last_day+1)\n",
    "plot_pred=np.arange(last_day+1,last_day+1+next_day)"
   ]
  },
  {
   "cell_type": "code",
   "execution_count": 163,
   "metadata": {},
   "outputs": [
    {
     "data": {
      "text/plain": [
       "[<matplotlib.lines.Line2D at 0x1fe7c1bd790>]"
      ]
     },
     "execution_count": 163,
     "metadata": {},
     "output_type": "execute_result"
    },
    {
     "data": {
      "image/png": "[encoded data removed]",
      "text/plain": [
       "<Figure size 432x288 with 1 Axes>"
      ]
     },
     "metadata": {},
     "output_type": "display_data"
    }
   ],
   "source": [
    "plt.plot(plot_new, scaler.inverse_transform(df_2d[len(df_2d)-last_day:]))\n",
    "plt.plot(plot_pred, scaler.inverse_transform(lst_output))"
   ]
  },
  {
   "cell_type": "code",
   "execution_count": 164,
   "metadata": {},
   "outputs": [
    {
     "data": {
      "text/plain": [
       "(5400, 1)"
      ]
     },
     "execution_count": 164,
     "metadata": {},
     "output_type": "execute_result"
    }
   ],
   "source": [
    "future_predict = scaler.inverse_transform(lst_output)\n",
    "future_predict.shape"
   ]
  },
  {
   "cell_type": "code",
   "execution_count": 165,
   "metadata": {},
   "outputs": [
    {
     "name": "stdout",
     "output_type": "stream",
     "text": [
      "Harga saham pada 13 tahun ke depan (4680 hari) : [1015.11073839]\n",
      "Harga saham pada 15 tahun ke depan (5400 hari): [1015.11053395]\n"
     ]
    }
   ],
   "source": [
    "print(\"Harga saham pada 13 tahun ke depan ({} hari) : {}\".format(next_a, future_predict[next_a-1]))\n",
    "print(\"Harga saham pada 15 tahun ke depan ({} hari): {}\".format(next_b, future_predict[next_b-1]))"
   ]
  },
  {
   "cell_type": "code",
   "execution_count": 166,
   "metadata": {},
   "outputs": [],
   "source": [
    "plot_pred1=np.arange(last_day+1,last_day+1+60)"
   ]
  },
  {
   "cell_type": "code",
   "execution_count": 167,
   "metadata": {},
   "outputs": [
    {
     "data": {
      "text/plain": [
       "[<matplotlib.lines.Line2D at 0x1fe7dad71c0>]"
      ]
     },
     "execution_count": 167,
     "metadata": {},
     "output_type": "execute_result"
    },
    {
     "data": {
      "image/png": "[encoded data removed]",
      "text/plain": [
       "<Figure size 432x288 with 1 Axes>"
      ]
     },
     "metadata": {},
     "output_type": "display_data"
    }
   ],
   "source": [
    "plt.plot(plot_new, scaler.inverse_transform(df_2d[len(df_2d)-last_day:]))\n",
    "plt.plot(plot_pred1, scaler.inverse_transform(lst_output[:60]))"
   ]
  },
  {
   "cell_type": "code",
   "execution_count": 168,
   "metadata": {},
   "outputs": [
    {
     "name": "stdout",
     "output_type": "stream",
     "text": [
      "Harga saham pada 30 hari ke depan : [665.76211733]\n",
      "Harga saham pada 60 hari ke depan : [724.03569679]\n"
     ]
    }
   ],
   "source": [
    "print(\"Harga saham pada 30 hari ke depan : {}\".format(future_predict[30-1]))\n",
    "print(\"Harga saham pada 60 hari ke depan : {}\".format(future_predict[60-1]))"
   ]
  },
  {
   "cell_type": "markdown",
   "metadata": {},
   "source": [
    "# Final Data"
   ]
  },
  {
   "cell_type": "code",
   "execution_count": 169,
   "metadata": {},
   "outputs": [],
   "source": [
    "test_new = test.tolist()"
   ]
  },
  {
   "cell_type": "code",
   "execution_count": 170,
   "metadata": {},
   "outputs": [
    {
     "data": {
      "text/plain": [
       "1592"
      ]
     },
     "execution_count": 170,
     "metadata": {},
     "output_type": "execute_result"
    }
   ],
   "source": [
    "len(test_new)"
   ]
  },
  {
   "cell_type": "code",
   "execution_count": 171,
   "metadata": {},
   "outputs": [],
   "source": [
    "# Join test data dengan predicted future output\n",
    "test_new.extend(lst_output)"
   ]
  },
  {
   "cell_type": "code",
   "execution_count": 172,
   "metadata": {},
   "outputs": [
    {
     "data": {
      "text/plain": [
       "[<matplotlib.lines.Line2D at 0x1fe7ca0fe50>]"
      ]
     },
     "execution_count": 172,
     "metadata": {},
     "output_type": "execute_result"
    },
    {
     "data": {
      "image/png": "[encoded data removed]",
      "text/plain": [
       "<Figure size 432x288 with 1 Axes>"
      ]
     },
     "metadata": {},
     "output_type": "display_data"
    }
   ],
   "source": [
    "\n",
    "plt.plot(test_new[1000:])"
   ]
  },
  {
   "cell_type": "code",
   "execution_count": 173,
   "metadata": {},
   "outputs": [],
   "source": [
    "# Membuat graph final\n",
    "final_graph = scaler.inverse_transform(test_new).tolist()"
   ]
  },
  {
   "cell_type": "code",
   "execution_count": 174,
   "metadata": {},
   "outputs": [
    {
     "data": {
      "text/plain": [
       "6992"
      ]
     },
     "execution_count": 174,
     "metadata": {},
     "output_type": "execute_result"
    }
   ],
   "source": [
    "len(final_graph)"
   ]
  },
  {
   "cell_type": "code",
   "execution_count": 175,
   "metadata": {},
   "outputs": [
    {
     "data": {
      "text/plain": [
       "<matplotlib.legend.Legend at 0x1fe7787cdc0>"
      ]
     },
     "execution_count": 175,
     "metadata": {},
     "output_type": "execute_result"
    },
    {
     "data": {
      "image/png": "[encoded data removed]",
      "text/plain": [
       "<Figure size 432x288 with 1 Axes>"
      ]
     },
     "metadata": {},
     "output_type": "display_data"
    }
   ],
   "source": [
    "#Plotting final results with predicted value after 30 Days\n",
    "plt.plot(final_graph)\n",
    "plt.ylabel(\"Price\")\n",
    "plt.xlabel(\"Time\")\n",
    "plt.title(\"Prediksi VWAP ICIBANK\")\n",
    "plt.axhline(y=final_graph[len(final_graph)-1], color = 'red', linestyle = ':', label = 'NEXT 13Y: {0}'.format(future_predict[next_a-1]))\n",
    "plt.axhline(y=final_graph[len(final_graph)-1], color = 'green', linestyle = 'dotted', label = 'NEXT 15Y: {0}'.format(future_predict[next_b-1]))\n",
    "plt.legend()"
   ]
  }
 ],
 "metadata": {
  "kernelspec": {
   "display_name": "Python 3.8.3 ('base')",
   "language": "python",
   "name": "python3"
  },
  "language_info": {
   "codemirror_mode": {
    "name": "ipython",
    "version": 3
   },
   "file_extension": ".py",
   "mimetype": "text/x-python",
   "name": "python",
   "nbconvert_exporter": "python",
   "pygments_lexer": "ipython3",
   "version": "3.8.3"
  },
  "orig_nbformat": 4,
  "vscode": {
   "interpreter": {
    "hash": "8cd9e4c32aa76832852086c9875b9f3c663db4c35eeef0c90fdf73d61f5b1b52"
   }
  }
 },
 "nbformat": 4,
 "nbformat_minor": 2
}
